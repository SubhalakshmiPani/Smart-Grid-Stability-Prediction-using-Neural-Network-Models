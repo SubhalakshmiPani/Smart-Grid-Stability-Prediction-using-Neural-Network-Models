{
 "cells": [
  {
   "cell_type": "code",
   "execution_count": 108,
   "id": "d6d66543-157e-40fe-82bb-70af1cfcb67d",
   "metadata": {},
   "outputs": [
    {
     "data": {
      "text/html": [
       "<div>\n",
       "<style scoped>\n",
       "    .dataframe tbody tr th:only-of-type {\n",
       "        vertical-align: middle;\n",
       "    }\n",
       "\n",
       "    .dataframe tbody tr th {\n",
       "        vertical-align: top;\n",
       "    }\n",
       "\n",
       "    .dataframe thead th {\n",
       "        text-align: right;\n",
       "    }\n",
       "</style>\n",
       "<table border=\"1\" class=\"dataframe\">\n",
       "  <thead>\n",
       "    <tr style=\"text-align: right;\">\n",
       "      <th></th>\n",
       "      <th>time</th>\n",
       "      <th>sqNum</th>\n",
       "      <th>stnum</th>\n",
       "      <th>state_cb</th>\n",
       "      <th>sqDiff</th>\n",
       "      <th>stDiff</th>\n",
       "      <th>timeLastMsg</th>\n",
       "      <th>recentChange</th>\n",
       "      <th>MU1Cs</th>\n",
       "      <th>MU2Cs</th>\n",
       "      <th>...</th>\n",
       "      <th>MU4VoltageAngleA</th>\n",
       "      <th>MU4VoltageAngleB</th>\n",
       "      <th>MU4VoltageAngleC</th>\n",
       "      <th>threePhaseCMU4</th>\n",
       "      <th>IED4_iA</th>\n",
       "      <th>IED4_iB</th>\n",
       "      <th>IED4_iC</th>\n",
       "      <th>MU4Log</th>\n",
       "      <th>any_relay</th>\n",
       "      <th>class</th>\n",
       "    </tr>\n",
       "  </thead>\n",
       "  <tbody>\n",
       "    <tr>\n",
       "      <th>0</th>\n",
       "      <td>4319</td>\n",
       "      <td>1</td>\n",
       "      <td>2</td>\n",
       "      <td>1</td>\n",
       "      <td>-3</td>\n",
       "      <td>1</td>\n",
       "      <td>319</td>\n",
       "      <td>1</td>\n",
       "      <td>0</td>\n",
       "      <td>0</td>\n",
       "      <td>...</td>\n",
       "      <td>138.78</td>\n",
       "      <td>18.79</td>\n",
       "      <td>-101.19</td>\n",
       "      <td>-0.80</td>\n",
       "      <td>123.94</td>\n",
       "      <td>3.60</td>\n",
       "      <td>-115.93</td>\n",
       "      <td>0</td>\n",
       "      <td>1</td>\n",
       "      <td>Fault</td>\n",
       "    </tr>\n",
       "    <tr>\n",
       "      <th>1</th>\n",
       "      <td>6394</td>\n",
       "      <td>1</td>\n",
       "      <td>4</td>\n",
       "      <td>1</td>\n",
       "      <td>-1</td>\n",
       "      <td>1</td>\n",
       "      <td>75</td>\n",
       "      <td>1</td>\n",
       "      <td>0</td>\n",
       "      <td>0</td>\n",
       "      <td>...</td>\n",
       "      <td>-176.72</td>\n",
       "      <td>63.30</td>\n",
       "      <td>-56.69</td>\n",
       "      <td>-1.58</td>\n",
       "      <td>169.19</td>\n",
       "      <td>48.49</td>\n",
       "      <td>-70.63</td>\n",
       "      <td>0</td>\n",
       "      <td>1</td>\n",
       "      <td>Fault</td>\n",
       "    </tr>\n",
       "    <tr>\n",
       "      <th>2</th>\n",
       "      <td>7965</td>\n",
       "      <td>1</td>\n",
       "      <td>6</td>\n",
       "      <td>1</td>\n",
       "      <td>0</td>\n",
       "      <td>1</td>\n",
       "      <td>570</td>\n",
       "      <td>1</td>\n",
       "      <td>0</td>\n",
       "      <td>0</td>\n",
       "      <td>...</td>\n",
       "      <td>163.66</td>\n",
       "      <td>43.72</td>\n",
       "      <td>-76.33</td>\n",
       "      <td>0.00</td>\n",
       "      <td>0.00</td>\n",
       "      <td>0.00</td>\n",
       "      <td>0.00</td>\n",
       "      <td>1</td>\n",
       "      <td>1</td>\n",
       "      <td>Fault</td>\n",
       "    </tr>\n",
       "    <tr>\n",
       "      <th>3</th>\n",
       "      <td>27258</td>\n",
       "      <td>1</td>\n",
       "      <td>7</td>\n",
       "      <td>1</td>\n",
       "      <td>-19</td>\n",
       "      <td>1</td>\n",
       "      <td>293</td>\n",
       "      <td>1</td>\n",
       "      <td>0</td>\n",
       "      <td>0</td>\n",
       "      <td>...</td>\n",
       "      <td>9.53</td>\n",
       "      <td>-110.41</td>\n",
       "      <td>129.55</td>\n",
       "      <td>0.00</td>\n",
       "      <td>0.00</td>\n",
       "      <td>0.00</td>\n",
       "      <td>0.00</td>\n",
       "      <td>1</td>\n",
       "      <td>1</td>\n",
       "      <td>Fault</td>\n",
       "    </tr>\n",
       "    <tr>\n",
       "      <th>4</th>\n",
       "      <td>29376</td>\n",
       "      <td>1</td>\n",
       "      <td>8</td>\n",
       "      <td>1</td>\n",
       "      <td>-1</td>\n",
       "      <td>1</td>\n",
       "      <td>118</td>\n",
       "      <td>1</td>\n",
       "      <td>0</td>\n",
       "      <td>0</td>\n",
       "      <td>...</td>\n",
       "      <td>17.54</td>\n",
       "      <td>-102.43</td>\n",
       "      <td>137.57</td>\n",
       "      <td>-0.23</td>\n",
       "      <td>-2.31</td>\n",
       "      <td>-122.55</td>\n",
       "      <td>117.70</td>\n",
       "      <td>0</td>\n",
       "      <td>1</td>\n",
       "      <td>Fault</td>\n",
       "    </tr>\n",
       "  </tbody>\n",
       "</table>\n",
       "<p>5 rows × 54 columns</p>\n",
       "</div>"
      ],
      "text/plain": [
       "    time  sqNum  stnum  state_cb  sqDiff  stDiff  timeLastMsg  recentChange  \\\n",
       "0   4319      1      2         1      -3       1          319             1   \n",
       "1   6394      1      4         1      -1       1           75             1   \n",
       "2   7965      1      6         1       0       1          570             1   \n",
       "3  27258      1      7         1     -19       1          293             1   \n",
       "4  29376      1      8         1      -1       1          118             1   \n",
       "\n",
       "   MU1Cs  MU2Cs  ...  MU4VoltageAngleA  MU4VoltageAngleB  MU4VoltageAngleC  \\\n",
       "0      0      0  ...            138.78             18.79           -101.19   \n",
       "1      0      0  ...           -176.72             63.30            -56.69   \n",
       "2      0      0  ...            163.66             43.72            -76.33   \n",
       "3      0      0  ...              9.53           -110.41            129.55   \n",
       "4      0      0  ...             17.54           -102.43            137.57   \n",
       "\n",
       "   threePhaseCMU4  IED4_iA  IED4_iB  IED4_iC  MU4Log  any_relay  class  \n",
       "0           -0.80   123.94     3.60  -115.93       0          1  Fault  \n",
       "1           -1.58   169.19    48.49   -70.63       0          1  Fault  \n",
       "2            0.00     0.00     0.00     0.00       1          1  Fault  \n",
       "3            0.00     0.00     0.00     0.00       1          1  Fault  \n",
       "4           -0.23    -2.31  -122.55   117.70       0          1  Fault  \n",
       "\n",
       "[5 rows x 54 columns]"
      ]
     },
     "execution_count": 108,
     "metadata": {},
     "output_type": "execute_result"
    }
   ],
   "source": [
    "import pandas as pd\n",
    "df=pd.read_csv(\"./Train.csv\")\n",
    "df.head()"
   ]
  },
  {
   "cell_type": "code",
   "execution_count": 109,
   "id": "d3511c7a-546a-48f7-8a30-3163adfca6c9",
   "metadata": {},
   "outputs": [
    {
     "data": {
      "text/plain": [
       "Index(['time', 'sqNum', 'stnum', 'state_cb', 'sqDiff', 'stDiff', 'timeLastMsg',\n",
       "       'recentChange', 'MU1Cs', 'MU2Cs', 'MU3Cs', 'MU4Cs', 'Cs', 'consistency',\n",
       "       'threePhaseVSum', 'threePhaseCSum', 'threePhaseVMU1',\n",
       "       'MU1VoltageAngleA', 'MU1VoltageAngleB', 'MU1VoltageAngleC',\n",
       "       'threePhaseCurrentMU1', 'MU1CurrentAngleA', 'MU1CurrentAngleB',\n",
       "       'MU1CurrentAngleC', 'MU1Log', 'threePhaseVMU2', 'MU2VoltageAngleA',\n",
       "       'MU2VoltageAngleB', 'MU2VoltageAngleC', 'threePhaseCMU2',\n",
       "       'MU2CurrentAngleA', 'MU2CurrentAngleB', 'MU2CurrentAngleC', 'MU2Log',\n",
       "       'threePhaseVMU3', 'MU3VoltageAngleA', 'MU3VoltageAngleB',\n",
       "       'MU3VoltageAngleC', 'threePhaseCMU3', 'MU3CurrentAngleA',\n",
       "       'MU3CurrentAngleB', 'MU3CurrentAngleC', 'MU3Log', 'threePhaseVMU4',\n",
       "       'MU4VoltageAngleA', 'MU4VoltageAngleB', 'MU4VoltageAngleC',\n",
       "       'threePhaseCMU4', 'IED4_iA', 'IED4_iB', 'IED4_iC', 'MU4Log',\n",
       "       'any_relay', 'class'],\n",
       "      dtype='object')"
      ]
     },
     "execution_count": 109,
     "metadata": {},
     "output_type": "execute_result"
    }
   ],
   "source": [
    "df.columns"
   ]
  },
  {
   "cell_type": "code",
   "execution_count": 110,
   "id": "761630ec-a80c-4177-85ac-6cf4d9572209",
   "metadata": {},
   "outputs": [
    {
     "data": {
      "text/plain": [
       "(1094, 54)"
      ]
     },
     "execution_count": 110,
     "metadata": {},
     "output_type": "execute_result"
    }
   ],
   "source": [
    "df.shape"
   ]
  },
  {
   "cell_type": "code",
   "execution_count": 111,
   "id": "a855a8cc-5e25-48ff-94af-6481cdf03d1e",
   "metadata": {
    "scrolled": true
   },
   "outputs": [
    {
     "name": "stdout",
     "output_type": "stream",
     "text": [
      "<class 'pandas.core.frame.DataFrame'>\n",
      "RangeIndex: 1094 entries, 0 to 1093\n",
      "Data columns (total 54 columns):\n",
      " #   Column                Non-Null Count  Dtype  \n",
      "---  ------                --------------  -----  \n",
      " 0   time                  1094 non-null   int64  \n",
      " 1   sqNum                 1094 non-null   int64  \n",
      " 2   stnum                 1094 non-null   int64  \n",
      " 3   state_cb              1094 non-null   int64  \n",
      " 4   sqDiff                1094 non-null   int64  \n",
      " 5   stDiff                1094 non-null   int64  \n",
      " 6   timeLastMsg           1094 non-null   int64  \n",
      " 7   recentChange          1094 non-null   int64  \n",
      " 8   MU1Cs                 1094 non-null   int64  \n",
      " 9   MU2Cs                 1094 non-null   int64  \n",
      " 10  MU3Cs                 1094 non-null   int64  \n",
      " 11  MU4Cs                 1094 non-null   int64  \n",
      " 12  Cs                    1094 non-null   int64  \n",
      " 13  consistency           1094 non-null   int64  \n",
      " 14  threePhaseVSum        1094 non-null   float64\n",
      " 15  threePhaseCSum        1094 non-null   float64\n",
      " 16  threePhaseVMU1        1094 non-null   float64\n",
      " 17  MU1VoltageAngleA      1094 non-null   float64\n",
      " 18  MU1VoltageAngleB      1094 non-null   float64\n",
      " 19  MU1VoltageAngleC      1094 non-null   float64\n",
      " 20  threePhaseCurrentMU1  1094 non-null   float64\n",
      " 21  MU1CurrentAngleA      1094 non-null   float64\n",
      " 22  MU1CurrentAngleB      1094 non-null   float64\n",
      " 23  MU1CurrentAngleC      1094 non-null   float64\n",
      " 24  MU1Log                1094 non-null   int64  \n",
      " 25  threePhaseVMU2        1094 non-null   int64  \n",
      " 26  MU2VoltageAngleA      1094 non-null   float64\n",
      " 27  MU2VoltageAngleB      1094 non-null   float64\n",
      " 28  MU2VoltageAngleC      1094 non-null   float64\n",
      " 29  threePhaseCMU2        1094 non-null   float64\n",
      " 30  MU2CurrentAngleA      1094 non-null   float64\n",
      " 31  MU2CurrentAngleB      1094 non-null   float64\n",
      " 32  MU2CurrentAngleC      1094 non-null   float64\n",
      " 33  MU2Log                1094 non-null   int64  \n",
      " 34  threePhaseVMU3        1094 non-null   float64\n",
      " 35  MU3VoltageAngleA      1094 non-null   float64\n",
      " 36  MU3VoltageAngleB      1094 non-null   float64\n",
      " 37  MU3VoltageAngleC      1094 non-null   float64\n",
      " 38  threePhaseCMU3        1094 non-null   float64\n",
      " 39  MU3CurrentAngleA      1094 non-null   float64\n",
      " 40  MU3CurrentAngleB      1094 non-null   float64\n",
      " 41  MU3CurrentAngleC      1094 non-null   float64\n",
      " 42  MU3Log                1094 non-null   int64  \n",
      " 43  threePhaseVMU4        1094 non-null   float64\n",
      " 44  MU4VoltageAngleA      1094 non-null   float64\n",
      " 45  MU4VoltageAngleB      1094 non-null   float64\n",
      " 46  MU4VoltageAngleC      1094 non-null   float64\n",
      " 47  threePhaseCMU4        1094 non-null   float64\n",
      " 48  IED4_iA               1094 non-null   float64\n",
      " 49  IED4_iB               1094 non-null   float64\n",
      " 50  IED4_iC               1094 non-null   float64\n",
      " 51  MU4Log                1094 non-null   int64  \n",
      " 52  any_relay             1094 non-null   int64  \n",
      " 53  class                 1094 non-null   object \n",
      "dtypes: float64(33), int64(20), object(1)\n",
      "memory usage: 461.7+ KB\n"
     ]
    }
   ],
   "source": [
    "df.info()"
   ]
  },
  {
   "cell_type": "code",
   "execution_count": 112,
   "id": "0b2a11d0-e102-46cd-9de2-25c938e8a432",
   "metadata": {},
   "outputs": [
    {
     "data": {
      "text/plain": [
       "array(['Fault', 'Injection', 'Masquerade', 'Normal', 'Replay'],\n",
       "      dtype=object)"
      ]
     },
     "execution_count": 112,
     "metadata": {},
     "output_type": "execute_result"
    }
   ],
   "source": [
    "df['class'].unique()"
   ]
  },
  {
   "cell_type": "markdown",
   "id": "071e01ff-a1a0-4825-9cc9-a6c60347c1fd",
   "metadata": {},
   "source": [
    "# There are five dependent features "
   ]
  },
  {
   "cell_type": "markdown",
   "id": "17649742-5318-43d6-a477-4ace4e8c9d73",
   "metadata": {},
   "source": [
    "# Checking for nulls"
   ]
  },
  {
   "cell_type": "code",
   "execution_count": 113,
   "id": "a4a91039-5d75-47cc-9f12-881b785b98da",
   "metadata": {
    "scrolled": true
   },
   "outputs": [
    {
     "data": {
      "text/plain": [
       "time                    0\n",
       "sqNum                   0\n",
       "stnum                   0\n",
       "state_cb                0\n",
       "sqDiff                  0\n",
       "stDiff                  0\n",
       "timeLastMsg             0\n",
       "recentChange            0\n",
       "MU1Cs                   0\n",
       "MU2Cs                   0\n",
       "MU3Cs                   0\n",
       "MU4Cs                   0\n",
       "Cs                      0\n",
       "consistency             0\n",
       "threePhaseVSum          0\n",
       "threePhaseCSum          0\n",
       "threePhaseVMU1          0\n",
       "MU1VoltageAngleA        0\n",
       "MU1VoltageAngleB        0\n",
       "MU1VoltageAngleC        0\n",
       "threePhaseCurrentMU1    0\n",
       "MU1CurrentAngleA        0\n",
       "MU1CurrentAngleB        0\n",
       "MU1CurrentAngleC        0\n",
       "MU1Log                  0\n",
       "threePhaseVMU2          0\n",
       "MU2VoltageAngleA        0\n",
       "MU2VoltageAngleB        0\n",
       "MU2VoltageAngleC        0\n",
       "threePhaseCMU2          0\n",
       "MU2CurrentAngleA        0\n",
       "MU2CurrentAngleB        0\n",
       "MU2CurrentAngleC        0\n",
       "MU2Log                  0\n",
       "threePhaseVMU3          0\n",
       "MU3VoltageAngleA        0\n",
       "MU3VoltageAngleB        0\n",
       "MU3VoltageAngleC        0\n",
       "threePhaseCMU3          0\n",
       "MU3CurrentAngleA        0\n",
       "MU3CurrentAngleB        0\n",
       "MU3CurrentAngleC        0\n",
       "MU3Log                  0\n",
       "threePhaseVMU4          0\n",
       "MU4VoltageAngleA        0\n",
       "MU4VoltageAngleB        0\n",
       "MU4VoltageAngleC        0\n",
       "threePhaseCMU4          0\n",
       "IED4_iA                 0\n",
       "IED4_iB                 0\n",
       "IED4_iC                 0\n",
       "MU4Log                  0\n",
       "any_relay               0\n",
       "class                   0\n",
       "dtype: int64"
      ]
     },
     "execution_count": 113,
     "metadata": {},
     "output_type": "execute_result"
    }
   ],
   "source": [
    "df.isnull().sum()"
   ]
  },
  {
   "cell_type": "code",
   "execution_count": 114,
   "id": "7453a097-dbb1-4605-b6de-e0545a7dfad1",
   "metadata": {
    "scrolled": true
   },
   "outputs": [
    {
     "data": {
      "text/plain": [
       "time                    0\n",
       "sqNum                   0\n",
       "stnum                   0\n",
       "state_cb                0\n",
       "sqDiff                  0\n",
       "stDiff                  0\n",
       "timeLastMsg             0\n",
       "recentChange            0\n",
       "MU1Cs                   0\n",
       "MU2Cs                   0\n",
       "MU3Cs                   0\n",
       "MU4Cs                   0\n",
       "Cs                      0\n",
       "consistency             0\n",
       "threePhaseVSum          0\n",
       "threePhaseCSum          0\n",
       "threePhaseVMU1          0\n",
       "MU1VoltageAngleA        0\n",
       "MU1VoltageAngleB        0\n",
       "MU1VoltageAngleC        0\n",
       "threePhaseCurrentMU1    0\n",
       "MU1CurrentAngleA        0\n",
       "MU1CurrentAngleB        0\n",
       "MU1CurrentAngleC        0\n",
       "MU1Log                  0\n",
       "threePhaseVMU2          0\n",
       "MU2VoltageAngleA        0\n",
       "MU2VoltageAngleB        0\n",
       "MU2VoltageAngleC        0\n",
       "threePhaseCMU2          0\n",
       "MU2CurrentAngleA        0\n",
       "MU2CurrentAngleB        0\n",
       "MU2CurrentAngleC        0\n",
       "MU2Log                  0\n",
       "threePhaseVMU3          0\n",
       "MU3VoltageAngleA        0\n",
       "MU3VoltageAngleB        0\n",
       "MU3VoltageAngleC        0\n",
       "threePhaseCMU3          0\n",
       "MU3CurrentAngleA        0\n",
       "MU3CurrentAngleB        0\n",
       "MU3CurrentAngleC        0\n",
       "MU3Log                  0\n",
       "threePhaseVMU4          0\n",
       "MU4VoltageAngleA        0\n",
       "MU4VoltageAngleB        0\n",
       "MU4VoltageAngleC        0\n",
       "threePhaseCMU4          0\n",
       "IED4_iA                 0\n",
       "IED4_iB                 0\n",
       "IED4_iC                 0\n",
       "MU4Log                  0\n",
       "any_relay               0\n",
       "class                   0\n",
       "dtype: int64"
      ]
     },
     "execution_count": 114,
     "metadata": {},
     "output_type": "execute_result"
    }
   ],
   "source": [
    "df.isnull().sum()"
   ]
  },
  {
   "cell_type": "markdown",
   "id": "09c53f90-0216-4e0d-b022-48651f36b6d6",
   "metadata": {},
   "source": [
    "# Labeling of Dependent Variables "
   ]
  },
  {
   "cell_type": "code",
   "execution_count": 115,
   "id": "c2753610-93b3-4f7d-99f0-efa9502174c5",
   "metadata": {},
   "outputs": [],
   "source": [
    "# Create a mapping dictionary\n",
    "category_mapping = {'Fault':0, 'Injection':1, 'Masquerade':2, 'Normal':3, 'Replay':4}\n",
    "\n",
    "# Map the categorical values to integers\n",
    "df['class'] = df['class'].map(category_mapping)"
   ]
  },
  {
   "cell_type": "code",
   "execution_count": 116,
   "id": "32221948-ae1d-43e8-a62a-e2843f43e79b",
   "metadata": {},
   "outputs": [
    {
     "data": {
      "text/plain": [
       "array([0, 1, 2, 3, 4], dtype=int64)"
      ]
     },
     "execution_count": 116,
     "metadata": {},
     "output_type": "execute_result"
    }
   ],
   "source": [
    "df['class'].unique()"
   ]
  },
  {
   "cell_type": "code",
   "execution_count": 117,
   "id": "7632364c-a09a-41b4-986c-af003a593837",
   "metadata": {},
   "outputs": [],
   "source": [
    "X_train=df.iloc[:,:53]\n",
    "y_train=df.iloc[:,53]"
   ]
  },
  {
   "cell_type": "code",
   "execution_count": 118,
   "id": "69a380ab-a4d0-4c69-8850-a570e6654cf1",
   "metadata": {
    "scrolled": true
   },
   "outputs": [
    {
     "name": "stdout",
     "output_type": "stream",
     "text": [
      "<class 'pandas.core.frame.DataFrame'>\n",
      "RangeIndex: 1094 entries, 0 to 1093\n",
      "Data columns (total 53 columns):\n",
      " #   Column                Non-Null Count  Dtype  \n",
      "---  ------                --------------  -----  \n",
      " 0   time                  1094 non-null   int64  \n",
      " 1   sqNum                 1094 non-null   int64  \n",
      " 2   stnum                 1094 non-null   int64  \n",
      " 3   state_cb              1094 non-null   int64  \n",
      " 4   sqDiff                1094 non-null   int64  \n",
      " 5   stDiff                1094 non-null   int64  \n",
      " 6   timeLastMsg           1094 non-null   int64  \n",
      " 7   recentChange          1094 non-null   int64  \n",
      " 8   MU1Cs                 1094 non-null   int64  \n",
      " 9   MU2Cs                 1094 non-null   int64  \n",
      " 10  MU3Cs                 1094 non-null   int64  \n",
      " 11  MU4Cs                 1094 non-null   int64  \n",
      " 12  Cs                    1094 non-null   int64  \n",
      " 13  consistency           1094 non-null   int64  \n",
      " 14  threePhaseVSum        1094 non-null   float64\n",
      " 15  threePhaseCSum        1094 non-null   float64\n",
      " 16  threePhaseVMU1        1094 non-null   float64\n",
      " 17  MU1VoltageAngleA      1094 non-null   float64\n",
      " 18  MU1VoltageAngleB      1094 non-null   float64\n",
      " 19  MU1VoltageAngleC      1094 non-null   float64\n",
      " 20  threePhaseCurrentMU1  1094 non-null   float64\n",
      " 21  MU1CurrentAngleA      1094 non-null   float64\n",
      " 22  MU1CurrentAngleB      1094 non-null   float64\n",
      " 23  MU1CurrentAngleC      1094 non-null   float64\n",
      " 24  MU1Log                1094 non-null   int64  \n",
      " 25  threePhaseVMU2        1094 non-null   int64  \n",
      " 26  MU2VoltageAngleA      1094 non-null   float64\n",
      " 27  MU2VoltageAngleB      1094 non-null   float64\n",
      " 28  MU2VoltageAngleC      1094 non-null   float64\n",
      " 29  threePhaseCMU2        1094 non-null   float64\n",
      " 30  MU2CurrentAngleA      1094 non-null   float64\n",
      " 31  MU2CurrentAngleB      1094 non-null   float64\n",
      " 32  MU2CurrentAngleC      1094 non-null   float64\n",
      " 33  MU2Log                1094 non-null   int64  \n",
      " 34  threePhaseVMU3        1094 non-null   float64\n",
      " 35  MU3VoltageAngleA      1094 non-null   float64\n",
      " 36  MU3VoltageAngleB      1094 non-null   float64\n",
      " 37  MU3VoltageAngleC      1094 non-null   float64\n",
      " 38  threePhaseCMU3        1094 non-null   float64\n",
      " 39  MU3CurrentAngleA      1094 non-null   float64\n",
      " 40  MU3CurrentAngleB      1094 non-null   float64\n",
      " 41  MU3CurrentAngleC      1094 non-null   float64\n",
      " 42  MU3Log                1094 non-null   int64  \n",
      " 43  threePhaseVMU4        1094 non-null   float64\n",
      " 44  MU4VoltageAngleA      1094 non-null   float64\n",
      " 45  MU4VoltageAngleB      1094 non-null   float64\n",
      " 46  MU4VoltageAngleC      1094 non-null   float64\n",
      " 47  threePhaseCMU4        1094 non-null   float64\n",
      " 48  IED4_iA               1094 non-null   float64\n",
      " 49  IED4_iB               1094 non-null   float64\n",
      " 50  IED4_iC               1094 non-null   float64\n",
      " 51  MU4Log                1094 non-null   int64  \n",
      " 52  any_relay             1094 non-null   int64  \n",
      "dtypes: float64(33), int64(20)\n",
      "memory usage: 453.1 KB\n"
     ]
    }
   ],
   "source": [
    "X_train.info()"
   ]
  },
  {
   "cell_type": "markdown",
   "id": "fc7359f8",
   "metadata": {},
   "source": []
  },
  {
   "cell_type": "code",
   "execution_count": 119,
   "id": "3ee8d8db-3426-49ff-a23f-b2d0fd2dd859",
   "metadata": {},
   "outputs": [
    {
     "name": "stdout",
     "output_type": "stream",
     "text": [
      "<class 'pandas.core.series.Series'>\n",
      "RangeIndex: 1094 entries, 0 to 1093\n",
      "Series name: class\n",
      "Non-Null Count  Dtype\n",
      "--------------  -----\n",
      "1094 non-null   int64\n",
      "dtypes: int64(1)\n",
      "memory usage: 8.7 KB\n"
     ]
    }
   ],
   "source": [
    "y_train.info()"
   ]
  },
  {
   "cell_type": "markdown",
   "id": "871438ff-40f1-43a1-84ba-dd7bb2a04b02",
   "metadata": {},
   "source": [
    "from sklearn.preprocessing import StandardScaler\n",
    "scaler = StandardScaler()\n",
    "X_train = scaler.fit_transform(X_train)"
   ]
  },
  {
   "cell_type": "code",
   "execution_count": 120,
   "id": "36ae3b54-ea85-4997-a902-18060d4db0d6",
   "metadata": {},
   "outputs": [],
   "source": [
    "from sklearn.preprocessing import MinMaxScaler\n",
    "scaler = MinMaxScaler()\n",
    "X_train = scaler.fit_transform(X_train)"
   ]
  },
  {
   "cell_type": "markdown",
   "id": "ac25b26e-5627-4c13-aea8-22afa42de406",
   "metadata": {},
   "source": [
    "# Feature selection with Chi2"
   ]
  },
  {
   "cell_type": "code",
   "execution_count": 121,
   "id": "94524975-08da-4c8d-a4bc-4a75c6574a79",
   "metadata": {},
   "outputs": [],
   "source": [
    "from sklearn.feature_selection import SelectKBest, chi2\n",
    "\n",
    "# X = df.drop(columns=['target_column'])\n",
    "# y = df['target_column']\n",
    "\n",
    "# Select top k features\n",
    "selector = SelectKBest(chi2, k=10)\n",
    "X_new = selector.fit_transform(X_train, y_train)"
   ]
  },
  {
   "cell_type": "code",
   "execution_count": 122,
   "id": "7fc33e18-60aa-4233-bc54-ca28ae63bd64",
   "metadata": {},
   "outputs": [
    {
     "data": {
      "text/plain": [
       "array([[1. , 1. , 0. , ..., 0. , 0. , 1. ],\n",
       "       [1. , 1. , 0. , ..., 0. , 0. , 1. ],\n",
       "       [1. , 1. , 0. , ..., 1. , 1. , 1. ],\n",
       "       ...,\n",
       "       [0. , 0. , 0. , ..., 0. , 0. , 0. ],\n",
       "       [0. , 0. , 0. , ..., 0. , 0. , 0. ],\n",
       "       [0. , 0.5, 0. , ..., 0. , 0. , 0. ]])"
      ]
     },
     "execution_count": 122,
     "metadata": {},
     "output_type": "execute_result"
    }
   ],
   "source": [
    "X_new"
   ]
  },
  {
   "cell_type": "markdown",
   "id": "9f362679-501e-4b99-b220-2191d9db5ff8",
   "metadata": {},
   "source": [
    "# Measuring Feature importance by Randomforest Algo"
   ]
  },
  {
   "cell_type": "code",
   "execution_count": 123,
   "id": "59c0d08b-6554-4339-8af8-86fb77a48438",
   "metadata": {
    "scrolled": true
   },
   "outputs": [
    {
     "name": "stdout",
     "output_type": "stream",
     "text": [
      "                 Feature  Importance\n",
      "3               state_cb    0.152334\n",
      "13           consistency    0.151167\n",
      "7           recentChange    0.073532\n",
      "5                 stDiff    0.071370\n",
      "6            timeLastMsg    0.051527\n",
      "2                  stnum    0.040933\n",
      "0                   time    0.037290\n",
      "52             any_relay    0.028171\n",
      "1                  sqNum    0.021877\n",
      "4                 sqDiff    0.021844\n",
      "43        threePhaseVMU4    0.016609\n",
      "14        threePhaseVSum    0.015717\n",
      "29        threePhaseCMU2    0.012281\n",
      "33                MU2Log    0.012080\n",
      "15        threePhaseCSum    0.012002\n",
      "38        threePhaseCMU3    0.011911\n",
      "47        threePhaseCMU4    0.010679\n",
      "20  threePhaseCurrentMU1    0.010589\n",
      "40      MU3CurrentAngleB    0.010216\n",
      "41      MU3CurrentAngleC    0.009829\n",
      "31      MU2CurrentAngleB    0.009804\n",
      "26      MU2VoltageAngleA    0.009473\n",
      "21      MU1CurrentAngleA    0.009448\n",
      "44      MU4VoltageAngleA    0.009220\n",
      "24                MU1Log    0.009172\n",
      "35      MU3VoltageAngleA    0.009005\n",
      "45      MU4VoltageAngleB    0.008930\n",
      "48               IED4_iA    0.008908\n",
      "22      MU1CurrentAngleB    0.008792\n",
      "32      MU2CurrentAngleC    0.008723\n",
      "49               IED4_iB    0.008570\n",
      "39      MU3CurrentAngleA    0.008539\n",
      "23      MU1CurrentAngleC    0.008531\n",
      "30      MU2CurrentAngleA    0.008375\n",
      "17      MU1VoltageAngleA    0.008324\n",
      "37      MU3VoltageAngleC    0.008132\n",
      "19      MU1VoltageAngleC    0.008071\n",
      "16        threePhaseVMU1    0.007771\n",
      "50               IED4_iC    0.007715\n",
      "27      MU2VoltageAngleB    0.007431\n",
      "28      MU2VoltageAngleC    0.007316\n",
      "36      MU3VoltageAngleB    0.007097\n",
      "18      MU1VoltageAngleB    0.007029\n",
      "51                MU4Log    0.006987\n",
      "34        threePhaseVMU3    0.006901\n",
      "46      MU4VoltageAngleC    0.006711\n",
      "42                MU3Log    0.006332\n",
      "12                    Cs    0.004110\n",
      "11                 MU4Cs    0.002048\n",
      "25        threePhaseVMU2    0.000326\n",
      "8                  MU1Cs    0.000168\n",
      "9                  MU2Cs    0.000078\n",
      "10                 MU3Cs    0.000000\n"
     ]
    }
   ],
   "source": [
    "from sklearn.ensemble import RandomForestClassifier\n",
    "\n",
    "# Train a model\n",
    "model = RandomForestClassifier()\n",
    "model.fit(X_train, y_train)\n",
    "\n",
    "# Get feature importances\n",
    "importances = model.feature_importances_\n",
    "feature_importance_df = pd.DataFrame({'Feature': df.iloc[:,:53].columns, 'Importance': importances})\n",
    "feature_importance_df = feature_importance_df.sort_values(by='Importance', ascending=False)\n",
    "print(feature_importance_df)"
   ]
  },
  {
   "cell_type": "markdown",
   "id": "239c67f2-0200-4cc4-bf84-52d1f76ee198",
   "metadata": {},
   "source": [
    "# Recursive Feature Elemination"
   ]
  },
  {
   "cell_type": "code",
   "execution_count": 124,
   "id": "2eab0720-dd89-456b-8c0d-bb2e3af61354",
   "metadata": {
    "scrolled": true
   },
   "outputs": [],
   "source": [
    "from sklearn.feature_selection import RFE\n",
    "from sklearn.linear_model import LogisticRegression\n",
    "\n",
    "# Use RFE to select features\n",
    "model = LogisticRegression(max_iter=10000)\n",
    "rfe = RFE(model, n_features_to_select=10)\n",
    "X_10_train = rfe.fit_transform(X_train, y_train)"
   ]
  },
  {
   "cell_type": "code",
   "execution_count": 125,
   "id": "d1cc2162-1625-4025-a371-1a19ef2dc712",
   "metadata": {
    "scrolled": true
   },
   "outputs": [
    {
     "name": "stdout",
     "output_type": "stream",
     "text": [
      "Selected Features: Index(['sqNum', 'state_cb', 'stDiff', 'timeLastMsg', 'recentChange',\n",
      "       'consistency', 'MU1Log', 'MU2Log', 'MU4Log', 'any_relay'],\n",
      "      dtype='object')\n"
     ]
    }
   ],
   "source": [
    "selected_features =df.iloc[:,:53].columns[rfe.support_]\n",
    "print(\"Selected Features:\", selected_features)"
   ]
  },
  {
   "cell_type": "code",
   "execution_count": 126,
   "id": "5fb4d843-5712-4249-80f6-2c8042ad1610",
   "metadata": {},
   "outputs": [
    {
     "data": {
      "text/plain": [
       "(1094, 10)"
      ]
     },
     "execution_count": 126,
     "metadata": {},
     "output_type": "execute_result"
    }
   ],
   "source": [
    "X_new.shape"
   ]
  },
  {
   "cell_type": "markdown",
   "id": "5da2a965-453e-41e3-87ee-6e2b189e1a86",
   "metadata": {},
   "source": [
    "# Test data Preparation"
   ]
  },
  {
   "cell_type": "code",
   "execution_count": 127,
   "id": "cacf1a2d-bcc6-4378-b31a-bff509d385da",
   "metadata": {},
   "outputs": [],
   "source": [
    "test=pd.read_csv('./Test.csv')\n",
    "X_test=test.iloc[:,:53]\n",
    "y_test=test.iloc[:,53]\n",
    "from sklearn.preprocessing import MinMaxScaler\n",
    "scaler = MinMaxScaler()\n",
    "X_test= scaler.fit_transform(X_test)\n",
    "# Create a mapping dictionary\n",
    "category_mapping = {'Fault':0, 'Injection':1, 'Masquerade':2, 'Normal':3, 'Replay':4}\n",
    "\n",
    "# Map the categorical values to integers\n",
    "y_test = y_test.map(category_mapping)\n"
   ]
  },
  {
   "cell_type": "markdown",
   "id": "fee61836-bc2d-45c9-bd72-58d1bb265fd0",
   "metadata": {},
   "source": [
    "# After Feature Elemination ,Test Data Preparation"
   ]
  },
  {
   "cell_type": "code",
   "execution_count": 128,
   "id": "263c9578-4ca9-4f6e-a512-3d05c06035d0",
   "metadata": {},
   "outputs": [],
   "source": [
    "from sklearn.feature_selection import RFE\n",
    "from sklearn.linear_model import LogisticRegression\n",
    "\n",
    "# Use RFE to select features\n",
    "model = LogisticRegression(max_iter=10000)\n",
    "rfe = RFE(model, n_features_to_select=10)\n",
    "X_10_test = rfe.fit_transform(X_test, y_test)"
   ]
  },
  {
   "cell_type": "code",
   "execution_count": 137,
   "id": "8b06201f-620a-43e4-bdd0-df40c0792694",
   "metadata": {},
   "outputs": [
    {
     "name": "stdout",
     "output_type": "stream",
     "text": [
      "                 Model  Accuracy\n",
      "0  Logistic Regression  0.830896\n",
      "1        Decision Tree  0.868373\n",
      "2        Random Forest  0.947898\n",
      "3              RBF SVM  0.814442\n",
      "4  K-Nearest Neighbors  0.826325\n"
     ]
    },
    {
     "data": {
      "image/png": "[encoded data removed]",
      "text/plain": [
       "<Figure size 1000x600 with 1 Axes>"
      ]
     },
     "metadata": {},
     "output_type": "display_data"
    }
   ],
   "source": [
    "import pandas as pd\n",
    "import numpy as np\n",
    "from sklearn.model_selection import train_test_split\n",
    "from sklearn.preprocessing import StandardScaler\n",
    "from sklearn.linear_model import LogisticRegression\n",
    "from sklearn.tree import DecisionTreeClassifier\n",
    "from sklearn.ensemble import RandomForestClassifier\n",
    "from sklearn.svm import SVC\n",
    "from sklearn.neighbors import KNeighborsClassifier\n",
    "from sklearn.metrics import accuracy_score\n",
    "import matplotlib.pyplot as plt\n",
    "\n",
    "\n",
    "models = {\n",
    "    'Logistic Regression': LogisticRegression(max_iter=10000),\n",
    "    'Decision Tree': DecisionTreeClassifier(random_state=42),\n",
    "    'Random Forest': RandomForestClassifier(random_state=42),\n",
    "    'RBF SVM': SVC(kernel='rbf', random_state=42,max_iter=10000),\n",
    "    'K-Nearest Neighbors': KNeighborsClassifier()\n",
    "}\n",
    "\n",
    "# Train and evaluate models\n",
    "results = {}\n",
    "for name, model in models.items():\n",
    "    model.fit(X_train, y_train)\n",
    "    y_pred = model.predict(X_test)\n",
    "    accuracy = accuracy_score(y_test, y_pred)\n",
    "    results[name] = accuracy\n",
    "\n",
    "# Display results in a table\n",
    "results_df = pd.DataFrame(list(results.items()), columns=['Model', 'Accuracy'])\n",
    "print(results_df)\n",
    "\n",
    "# Plot the results in a bar graph\n",
    "plt.figure(figsize=(10, 6))\n",
    "plt.bar(results_df['Model'], results_df['Accuracy'], color='skyblue')\n",
    "plt.xlabel('Model')\n",
    "plt.ylabel('Accuracy')\n",
    "plt.title('Comparison of Model Accuracies With All the Features')\n",
    "plt.ylim(0, 1)  # Set y-axis limit to 0-1 for accuracy\n",
    "plt.xticks(rotation=45)\n",
    "plt.show()"
   ]
  },
  {
   "cell_type": "code",
   "execution_count": 138,
   "id": "87bb519a-d83f-4d9c-a107-6493e7af7c21",
   "metadata": {},
   "outputs": [
    {
     "name": "stdout",
     "output_type": "stream",
     "text": [
      "                 Model  Accuracy\n",
      "0  Logistic Regression  0.412249\n",
      "1        Decision Tree  0.476234\n",
      "2        Random Forest  0.563985\n",
      "3              RBF SVM  0.413163\n",
      "4  K-Nearest Neighbors  0.814442\n"
     ]
    },
    {
     "data": {
      "image/png": "[encoded data removed]",
      "text/plain": [
       "<Figure size 1000x600 with 1 Axes>"
      ]
     },
     "metadata": {},
     "output_type": "display_data"
    }
   ],
   "source": [
    "# Initialize models\n",
    "models = {\n",
    "    'Logistic Regression': LogisticRegression(max_iter=10000),\n",
    "    'Decision Tree': DecisionTreeClassifier(random_state=42),\n",
    "    'Random Forest': RandomForestClassifier(random_state=42),\n",
    "    'RBF SVM': SVC(kernel='rbf', random_state=42,max_iter=10000),\n",
    "    'K-Nearest Neighbors': KNeighborsClassifier()\n",
    "}\n",
    "\n",
    "# Train and evaluate models\n",
    "results = {}\n",
    "for name, model in models.items():\n",
    "    model.fit(X_10_train, y_train)\n",
    "    y_pred = model.predict(X_10_test)\n",
    "    accuracy = accuracy_score(y_test, y_pred)\n",
    "    results[name] = accuracy\n",
    "\n",
    "# Display results in a table\n",
    "results_df = pd.DataFrame(list(results.items()), columns=['Model', 'Accuracy'])\n",
    "print(results_df)\n",
    "\n",
    "# Plot the results in a bar graph\n",
    "plt.figure(figsize=(10, 6))\n",
    "plt.bar(results_df['Model'], results_df['Accuracy'], color='skyblue')\n",
    "plt.xlabel('Model')\n",
    "plt.ylabel('Accuracy')\n",
    "plt.title('Comparison of Model Accuracies With top 10 Features')\n",
    "plt.ylim(0, 1)  # Set y-axis limit to 0-1 for accuracy\n",
    "plt.xticks(rotation=45)\n",
    "plt.show()"
   ]
  },
  {
   "cell_type": "code",
   "execution_count": 133,
   "id": "a6cd0309-6ed3-40e7-a4e7-9aefb8d0b246",
   "metadata": {},
   "outputs": [],
   "source": [
    "from sklearn.feature_selection import RFE\n",
    "from sklearn.linear_model import LogisticRegression\n",
    "\n",
    "# Use RFE to select features\n",
    "model = LogisticRegression(max_iter=10000)\n",
    "rfe = RFE(model, n_features_to_select=20)\n",
    "X_20_train = rfe.fit_transform(X_train, y_train)"
   ]
  },
  {
   "cell_type": "code",
   "execution_count": 134,
   "id": "dbc6ecd2-cab8-452e-aa81-11a4ab7ef6c0",
   "metadata": {},
   "outputs": [],
   "source": [
    "from sklearn.feature_selection import RFE\n",
    "from sklearn.linear_model import LogisticRegression\n",
    "\n",
    "# Use RFE to select features\n",
    "model = LogisticRegression(max_iter=10000)\n",
    "rfe = RFE(model, n_features_to_select=20)\n",
    "X_20_test=rfe.fit_transform(X_test,y_test)"
   ]
  },
  {
   "cell_type": "code",
   "execution_count": 139,
   "id": "7dc38bc2-77cb-4981-ae68-0cd726aeba9f",
   "metadata": {},
   "outputs": [
    {
     "name": "stdout",
     "output_type": "stream",
     "text": [
      "                 Model  Accuracy\n",
      "0  Logistic Regression  0.829982\n",
      "1        Decision Tree  0.814442\n",
      "2        Random Forest  0.888483\n",
      "3              RBF SVM  0.677331\n",
      "4  K-Nearest Neighbors  0.823583\n"
     ]
    },
    {
     "data": {
      "image/png": "[encoded data removed]",
      "text/plain": [
       "<Figure size 1000x600 with 1 Axes>"
      ]
     },
     "metadata": {},
     "output_type": "display_data"
    }
   ],
   "source": [
    "# Initialize models\n",
    "models = {\n",
    "    'Logistic Regression': LogisticRegression(max_iter=10000),\n",
    "    'Decision Tree': DecisionTreeClassifier(random_state=42),\n",
    "    'Random Forest': RandomForestClassifier(random_state=42),\n",
    "    'RBF SVM': SVC(kernel='rbf', random_state=42,max_iter=10000),\n",
    "    'K-Nearest Neighbors': KNeighborsClassifier()\n",
    "}\n",
    "\n",
    "# Train and evaluate models\n",
    "results = {}\n",
    "for name, model in models.items():\n",
    "    model.fit(X_20_train, y_train)\n",
    "    y_pred = model.predict(X_20_test)\n",
    "    accuracy = accuracy_score(y_test, y_pred)\n",
    "    results[name] = accuracy\n",
    "\n",
    "# Display results in a table\n",
    "results_df = pd.DataFrame(list(results.items()), columns=['Model', 'Accuracy'])\n",
    "print(results_df)\n",
    "\n",
    "# Plot the results in a bar graph\n",
    "plt.figure(figsize=(10, 6))\n",
    "plt.bar(results_df['Model'], results_df['Accuracy'], color='skyblue')\n",
    "plt.xlabel('Model')\n",
    "plt.ylabel('Accuracy')\n",
    "plt.title('Comparison of Model Accuracies With top 20 features')\n",
    "plt.ylim(0, 1)  # Set y-axis limit to 0-1 for accuracy\n",
    "plt.xticks(rotation=45)\n",
    "plt.show()"
   ]
  },
  {
   "cell_type": "code",
   "execution_count": null,
   "id": "14c2b905-2fb3-489a-8d79-32ffd5697e37",
   "metadata": {},
   "outputs": [],
   "source": []
  }
 ],
 "metadata": {
  "kernelspec": {
   "display_name": "Python 3 (ipykernel)",
   "language": "python",
   "name": "python3"
  },
  "language_info": {
   "codemirror_mode": {
    "name": "ipython",
    "version": 3
   },
   "file_extension": ".py",
   "mimetype": "text/x-python",
   "name": "python",
   "nbconvert_exporter": "python",
   "pygments_lexer": "ipython3",
   "version": "3.11.5"
  }
 },
 "nbformat": 4,
 "nbformat_minor": 5
}
